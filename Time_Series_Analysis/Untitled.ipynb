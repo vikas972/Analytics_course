{
 "cells": [
  {
   "cell_type": "code",
   "execution_count": 5,
   "metadata": {},
   "outputs": [
    {
     "name": "stderr",
     "output_type": "stream",
     "text": [
      "C:\\Users\\vikas.maurya\\AppData\\Local\\Continuum\\anaconda3\\lib\\site-packages\\sklearn\\discriminant_analysis.py:388: UserWarning: Variables are collinear.\n",
      "  warnings.warn(\"Variables are collinear.\")\n",
      "C:\\Users\\vikas.maurya\\AppData\\Local\\Continuum\\anaconda3\\lib\\site-packages\\sklearn\\linear_model\\logistic.py:433: FutureWarning: Default solver will be changed to 'lbfgs' in 0.22. Specify a solver to silence this warning.\n",
      "  FutureWarning)\n",
      "C:\\Users\\vikas.maurya\\AppData\\Local\\Continuum\\anaconda3\\lib\\site-packages\\sklearn\\linear_model\\logistic.py:460: FutureWarning: Default multi_class will be changed to 'auto' in 0.22. Specify the multi_class option to silence this warning.\n",
      "  \"this warning.\", FutureWarning)\n",
      "C:\\Users\\vikas.maurya\\AppData\\Local\\Continuum\\anaconda3\\lib\\site-packages\\sklearn\\linear_model\\logistic.py:433: FutureWarning: Default solver will be changed to 'lbfgs' in 0.22. Specify a solver to silence this warning.\n",
      "  FutureWarning)\n",
      "C:\\Users\\vikas.maurya\\AppData\\Local\\Continuum\\anaconda3\\lib\\site-packages\\sklearn\\linear_model\\logistic.py:460: FutureWarning: Default multi_class will be changed to 'auto' in 0.22. Specify the multi_class option to silence this warning.\n",
      "  \"this warning.\", FutureWarning)\n"
     ]
    },
    {
     "name": "stdout",
     "output_type": "stream",
     "text": [
      "Expected variance with LDA:  [0.29188734 0.17734375 0.16958546 0.12008933 0.08023402]\n",
      "Accuracy with LDA:  0.8861111111111111\n",
      "Expected variance of PCA:  [1.51606749e-01 1.35953606e-01 1.19138575e-01 8.42590818e-02\n",
      " 5.70400312e-02 4.94282692e-02 4.35806417e-02 3.68206616e-02\n",
      " 3.27444554e-02 2.95355588e-02 2.41703139e-02 2.17964272e-02\n",
      " 1.85324743e-02 1.77764931e-02 1.44858350e-02 1.40323979e-02\n",
      " 1.28818768e-02 1.23821119e-02 1.01853151e-02 9.29728386e-03\n",
      " 8.81237576e-03 7.72664236e-03 7.52886185e-03 7.14030245e-03\n",
      " 6.93007397e-03 5.74244668e-03 5.68561714e-03 5.06238067e-03\n",
      " 4.88303724e-03 4.21494813e-03 3.74459336e-03 3.55114577e-03\n",
      " 3.41159500e-03 3.23721872e-03 3.00277374e-03 2.92067865e-03\n",
      " 2.52255378e-03 2.32768141e-03 2.26206875e-03 2.10975401e-03\n",
      " 1.88436682e-03 1.49257243e-03 1.48077736e-03 1.39281089e-03\n",
      " 1.15962802e-03 1.06979631e-03 9.43568785e-04 7.65961574e-04\n",
      " 5.17335652e-04 3.80357838e-04 2.11731708e-04 8.26241163e-05\n",
      " 4.83996920e-05 4.18822891e-05 3.92569063e-05 1.48702094e-05\n",
      " 6.13581581e-06 1.11283598e-06 9.54731991e-07 5.50384818e-07\n",
      " 3.96876490e-07 7.66031211e-34 7.66031211e-34]\n",
      "Accuracy with PCA:  0.9416666666666667\n"
     ]
    }
   ],
   "source": [
    "\n",
    "    \n",
    "\n",
    "from sklearn.datasets import load_digits\n",
    "from sklearn.model_selection import train_test_split\n",
    "from sklearn.discriminant_analysis import LinearDiscriminantAnalysis\n",
    "from sklearn.linear_model import LogisticRegression\n",
    "from sklearn.metrics import accuracy_score\n",
    "from sklearn.decomposition import PCA\n",
    " \n",
    "df=load_digits()\n",
    "X=df['images'].reshape(df['images'].shape[0],-1)\n",
    "y=df['target']\n",
    "X_train, X_test, y_train, y_test =train_test_split(X,y,test_size=0.2)\n",
    " \n",
    "lda=LinearDiscriminantAnalysis(n_components=5)\n",
    "lda.fit(X_train,y_train)\n",
    "X_train1=lda.transform(X_train)\n",
    "X_test1=lda.transform(X_test)\n",
    "print(\"Expected variance with LDA: \",lda.explained_variance_ratio_)\n",
    " \n",
    "logic=LogisticRegression()\n",
    "logic.fit(X_train1,y_train)\n",
    "y_predict=logic.predict(X_test1)\n",
    "print(\"Accuracy with LDA: \",accuracy_score(y_test,y_predict))\n",
    " \n",
    "pca=PCA(n_components=63)\n",
    "pca.fit(X_train)\n",
    "X_train=pca.transform(X_train)\n",
    "X_test=pca.transform(X_test)\n",
    "print(\"Expected variance of PCA: \",pca.explained_variance_ratio_)\n",
    " \n",
    "logic.fit(X_train,y_train)\n",
    "y_predict=logic.predict(X_test)\n",
    "print(\"Accuracy with PCA: \",accuracy_score(y_test,y_predict))\n",
    "\n"
   ]
  }
 ],
 "metadata": {
  "kernelspec": {
   "display_name": "Python 3",
   "language": "python",
   "name": "python3"
  },
  "language_info": {
   "codemirror_mode": {
    "name": "ipython",
    "version": 3
   },
   "file_extension": ".py",
   "mimetype": "text/x-python",
   "name": "python",
   "nbconvert_exporter": "python",
   "pygments_lexer": "ipython3",
   "version": "3.7.3"
  }
 },
 "nbformat": 4,
 "nbformat_minor": 2
}
