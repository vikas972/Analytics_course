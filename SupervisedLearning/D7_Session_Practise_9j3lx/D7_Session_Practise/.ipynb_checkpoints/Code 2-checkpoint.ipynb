{
 "cells": [
  {
   "cell_type": "code",
   "execution_count": 1,
   "metadata": {},
   "outputs": [],
   "source": [
    "import pandas as pd # data processing, CSV file I/O (e.g. pd.read_csv), data manipulation as in SQL\n",
    "\n",
    "import matplotlib\n",
    "matplotlib.use(\"Agg\")\n",
    "%matplotlib inline\n",
    "# used for plot interactive graph. I like it most for plot"
   ]
  },
  {
   "cell_type": "code",
   "execution_count": 2,
   "metadata": {},
   "outputs": [],
   "source": [
    "import seaborn as sns # this is used for the plot the graph\n",
    "from sklearn.model_selection import train_test_split # to split the data into two parts\n",
    "from sklearn import metrics # for the check the error and accuracy of the model\n",
    "from sklearn import tree"
   ]
  },
  {
   "cell_type": "code",
   "execution_count": 3,
   "metadata": {},
   "outputs": [],
   "source": [
    "from sklearn.ensemble import RandomForestClassifier\n",
    "\n",
    "from sklearn.metrics import confusion_matrix\n",
    "\n",
    "from sklearn.metrics import accuracy_score\n",
    "# To import the svm classifier"
   ]
  },
  {
   "cell_type": "code",
   "execution_count": 4,
   "metadata": {
    "collapsed": true
   },
   "outputs": [
    {
     "name": "stdout",
     "output_type": "stream",
     "text": [
      "         ID                 Name      Date  Time Event Status Latitude  \\\n",
      "0  EP011949              UNNAMED  19490611     0           TS    20.2N   \n",
      "1  EP011949              UNNAMED  19490611   600           TS    20.2N   \n",
      "2  EP011949              UNNAMED  19490611  1200           TS    20.2N   \n",
      "3  EP011949              UNNAMED  19490611  1800           TS    20.3N   \n",
      "4  EP011949              UNNAMED  19490612     0           TS    20.4N   \n",
      "5  EP011949              UNNAMED  19490612   600           TS    20.5N   \n",
      "\n",
      "  Longitude  Maximum Wind  Minimum Pressure      ...       Low Wind SW  \\\n",
      "0    106.3W            45              -999      ...              -999   \n",
      "1    106.4W            45              -999      ...              -999   \n",
      "2    106.7W            45              -999      ...              -999   \n",
      "3    107.7W            45              -999      ...              -999   \n",
      "4    108.6W            45              -999      ...              -999   \n",
      "5    109.4W            45              -999      ...              -999   \n",
      "\n",
      "   Low Wind NW  Moderate Wind NE  Moderate Wind SE  Moderate Wind SW  \\\n",
      "0         -999              -999              -999              -999   \n",
      "1         -999              -999              -999              -999   \n",
      "2         -999              -999              -999              -999   \n",
      "3         -999              -999              -999              -999   \n",
      "4         -999              -999              -999              -999   \n",
      "5         -999              -999              -999              -999   \n",
      "\n",
      "   Moderate Wind NW  High Wind NE  High Wind SE  High Wind SW  High Wind NW  \n",
      "0              -999          -999          -999          -999          -999  \n",
      "1              -999          -999          -999          -999          -999  \n",
      "2              -999          -999          -999          -999          -999  \n",
      "3              -999          -999          -999          -999          -999  \n",
      "4              -999          -999          -999          -999          -999  \n",
      "5              -999          -999          -999          -999          -999  \n",
      "\n",
      "[6 rows x 22 columns]\n"
     ]
    }
   ],
   "source": [
    "import random\n",
    "data = pd.read_csv('pacific.csv')\n",
    "print(data.head(6))"
   ]
  },
  {
   "cell_type": "code",
   "execution_count": 58,
   "metadata": {
    "collapsed": true
   },
   "outputs": [
    {
     "name": "stdout",
     "output_type": "stream",
     "text": [
      "<class 'pandas.core.frame.DataFrame'>\n",
      "RangeIndex: 26137 entries, 0 to 26136\n",
      "Data columns (total 22 columns):\n",
      "ID                  26137 non-null object\n",
      "Name                26137 non-null object\n",
      "Date                26137 non-null int64\n",
      "Time                26137 non-null int64\n",
      "Event               26137 non-null object\n",
      "Status              26137 non-null object\n",
      "Latitude            26137 non-null object\n",
      "Longitude           26137 non-null object\n",
      "Maximum Wind        26137 non-null int64\n",
      "Minimum Pressure    26137 non-null int64\n",
      "Low Wind NE         26137 non-null int64\n",
      "Low Wind SE         26137 non-null int64\n",
      "Low Wind SW         26137 non-null int64\n",
      "Low Wind NW         26137 non-null int64\n",
      "Moderate Wind NE    26137 non-null int64\n",
      "Moderate Wind SE    26137 non-null int64\n",
      "Moderate Wind SW    26137 non-null int64\n",
      "Moderate Wind NW    26137 non-null int64\n",
      "High Wind NE        26137 non-null int64\n",
      "High Wind SE        26137 non-null int64\n",
      "High Wind SW        26137 non-null int64\n",
      "High Wind NW        26137 non-null int64\n",
      "dtypes: int64(16), object(6)\n",
      "memory usage: 4.4+ MB\n",
      "None\n"
     ]
    },
    {
     "data": {
      "text/html": [
       "<div>\n",
       "<style scoped>\n",
       "    .dataframe tbody tr th:only-of-type {\n",
       "        vertical-align: middle;\n",
       "    }\n",
       "\n",
       "    .dataframe tbody tr th {\n",
       "        vertical-align: top;\n",
       "    }\n",
       "\n",
       "    .dataframe thead th {\n",
       "        text-align: right;\n",
       "    }\n",
       "</style>\n",
       "<table border=\"1\" class=\"dataframe\">\n",
       "  <thead>\n",
       "    <tr style=\"text-align: right;\">\n",
       "      <th></th>\n",
       "      <th>Date</th>\n",
       "      <th>Time</th>\n",
       "      <th>Status</th>\n",
       "      <th>Maximum Wind</th>\n",
       "      <th>Minimum Pressure</th>\n",
       "      <th>Low Wind NE</th>\n",
       "      <th>Low Wind SE</th>\n",
       "      <th>Low Wind SW</th>\n",
       "      <th>Low Wind NW</th>\n",
       "      <th>Moderate Wind NE</th>\n",
       "      <th>Moderate Wind SE</th>\n",
       "      <th>Moderate Wind SW</th>\n",
       "      <th>Moderate Wind NW</th>\n",
       "      <th>High Wind NE</th>\n",
       "      <th>High Wind SE</th>\n",
       "      <th>High Wind SW</th>\n",
       "      <th>High Wind NW</th>\n",
       "    </tr>\n",
       "  </thead>\n",
       "  <tbody>\n",
       "    <tr>\n",
       "      <th>count</th>\n",
       "      <td>2.613700e+04</td>\n",
       "      <td>26137.000000</td>\n",
       "      <td>0.0</td>\n",
       "      <td>26137.000000</td>\n",
       "      <td>26137.000000</td>\n",
       "      <td>26137.000000</td>\n",
       "      <td>26137.000000</td>\n",
       "      <td>26137.000000</td>\n",
       "      <td>26137.000000</td>\n",
       "      <td>26137.000000</td>\n",
       "      <td>26137.000000</td>\n",
       "      <td>26137.000000</td>\n",
       "      <td>26137.000000</td>\n",
       "      <td>26137.000000</td>\n",
       "      <td>26137.000000</td>\n",
       "      <td>26137.000000</td>\n",
       "      <td>26137.000000</td>\n",
       "    </tr>\n",
       "    <tr>\n",
       "      <th>mean</th>\n",
       "      <td>1.988908e+07</td>\n",
       "      <td>896.050427</td>\n",
       "      <td>NaN</td>\n",
       "      <td>48.949344</td>\n",
       "      <td>18.176225</td>\n",
       "      <td>-745.064851</td>\n",
       "      <td>-746.312125</td>\n",
       "      <td>-748.290929</td>\n",
       "      <td>-746.320542</td>\n",
       "      <td>-751.604622</td>\n",
       "      <td>-752.094923</td>\n",
       "      <td>-752.701917</td>\n",
       "      <td>-752.102957</td>\n",
       "      <td>-753.584382</td>\n",
       "      <td>-753.787160</td>\n",
       "      <td>-754.046945</td>\n",
       "      <td>-753.774534</td>\n",
       "    </tr>\n",
       "    <tr>\n",
       "      <th>std</th>\n",
       "      <td>1.688455e+05</td>\n",
       "      <td>672.008065</td>\n",
       "      <td>NaN</td>\n",
       "      <td>25.334450</td>\n",
       "      <td>996.896388</td>\n",
       "      <td>447.193480</td>\n",
       "      <td>444.883379</td>\n",
       "      <td>441.232953</td>\n",
       "      <td>444.939111</td>\n",
       "      <td>435.198872</td>\n",
       "      <td>434.303796</td>\n",
       "      <td>433.202389</td>\n",
       "      <td>434.291049</td>\n",
       "      <td>431.605766</td>\n",
       "      <td>431.239618</td>\n",
       "      <td>430.773515</td>\n",
       "      <td>431.263235</td>\n",
       "    </tr>\n",
       "    <tr>\n",
       "      <th>min</th>\n",
       "      <td>1.949061e+07</td>\n",
       "      <td>0.000000</td>\n",
       "      <td>NaN</td>\n",
       "      <td>10.000000</td>\n",
       "      <td>-999.000000</td>\n",
       "      <td>-999.000000</td>\n",
       "      <td>-999.000000</td>\n",
       "      <td>-999.000000</td>\n",
       "      <td>-999.000000</td>\n",
       "      <td>-999.000000</td>\n",
       "      <td>-999.000000</td>\n",
       "      <td>-999.000000</td>\n",
       "      <td>-999.000000</td>\n",
       "      <td>-999.000000</td>\n",
       "      <td>-999.000000</td>\n",
       "      <td>-999.000000</td>\n",
       "      <td>-999.000000</td>\n",
       "    </tr>\n",
       "    <tr>\n",
       "      <th>25%</th>\n",
       "      <td>1.976081e+07</td>\n",
       "      <td>0.000000</td>\n",
       "      <td>NaN</td>\n",
       "      <td>30.000000</td>\n",
       "      <td>-999.000000</td>\n",
       "      <td>-999.000000</td>\n",
       "      <td>-999.000000</td>\n",
       "      <td>-999.000000</td>\n",
       "      <td>-999.000000</td>\n",
       "      <td>-999.000000</td>\n",
       "      <td>-999.000000</td>\n",
       "      <td>-999.000000</td>\n",
       "      <td>-999.000000</td>\n",
       "      <td>-999.000000</td>\n",
       "      <td>-999.000000</td>\n",
       "      <td>-999.000000</td>\n",
       "      <td>-999.000000</td>\n",
       "    </tr>\n",
       "    <tr>\n",
       "      <th>50%</th>\n",
       "      <td>1.990081e+07</td>\n",
       "      <td>600.000000</td>\n",
       "      <td>NaN</td>\n",
       "      <td>45.000000</td>\n",
       "      <td>941.000000</td>\n",
       "      <td>-999.000000</td>\n",
       "      <td>-999.000000</td>\n",
       "      <td>-999.000000</td>\n",
       "      <td>-999.000000</td>\n",
       "      <td>-999.000000</td>\n",
       "      <td>-999.000000</td>\n",
       "      <td>-999.000000</td>\n",
       "      <td>-999.000000</td>\n",
       "      <td>-999.000000</td>\n",
       "      <td>-999.000000</td>\n",
       "      <td>-999.000000</td>\n",
       "      <td>-999.000000</td>\n",
       "    </tr>\n",
       "    <tr>\n",
       "      <th>75%</th>\n",
       "      <td>2.003092e+07</td>\n",
       "      <td>1200.000000</td>\n",
       "      <td>NaN</td>\n",
       "      <td>65.000000</td>\n",
       "      <td>1002.000000</td>\n",
       "      <td>-999.000000</td>\n",
       "      <td>-999.000000</td>\n",
       "      <td>-999.000000</td>\n",
       "      <td>-999.000000</td>\n",
       "      <td>-999.000000</td>\n",
       "      <td>-999.000000</td>\n",
       "      <td>-999.000000</td>\n",
       "      <td>-999.000000</td>\n",
       "      <td>-999.000000</td>\n",
       "      <td>-999.000000</td>\n",
       "      <td>-999.000000</td>\n",
       "      <td>-999.000000</td>\n",
       "    </tr>\n",
       "    <tr>\n",
       "      <th>max</th>\n",
       "      <td>2.015113e+07</td>\n",
       "      <td>2300.000000</td>\n",
       "      <td>NaN</td>\n",
       "      <td>185.000000</td>\n",
       "      <td>1021.000000</td>\n",
       "      <td>300.000000</td>\n",
       "      <td>270.000000</td>\n",
       "      <td>180.000000</td>\n",
       "      <td>1180.000000</td>\n",
       "      <td>150.000000</td>\n",
       "      <td>150.000000</td>\n",
       "      <td>105.000000</td>\n",
       "      <td>150.000000</td>\n",
       "      <td>100.000000</td>\n",
       "      <td>75.000000</td>\n",
       "      <td>75.000000</td>\n",
       "      <td>100.000000</td>\n",
       "    </tr>\n",
       "  </tbody>\n",
       "</table>\n",
       "</div>"
      ],
      "text/plain": [
       "               Date          Time  Status  Maximum Wind  Minimum Pressure  \\\n",
       "count  2.613700e+04  26137.000000     0.0  26137.000000      26137.000000   \n",
       "mean   1.988908e+07    896.050427     NaN     48.949344         18.176225   \n",
       "std    1.688455e+05    672.008065     NaN     25.334450        996.896388   \n",
       "min    1.949061e+07      0.000000     NaN     10.000000       -999.000000   \n",
       "25%    1.976081e+07      0.000000     NaN     30.000000       -999.000000   \n",
       "50%    1.990081e+07    600.000000     NaN     45.000000        941.000000   \n",
       "75%    2.003092e+07   1200.000000     NaN     65.000000       1002.000000   \n",
       "max    2.015113e+07   2300.000000     NaN    185.000000       1021.000000   \n",
       "\n",
       "        Low Wind NE   Low Wind SE   Low Wind SW   Low Wind NW  \\\n",
       "count  26137.000000  26137.000000  26137.000000  26137.000000   \n",
       "mean    -745.064851   -746.312125   -748.290929   -746.320542   \n",
       "std      447.193480    444.883379    441.232953    444.939111   \n",
       "min     -999.000000   -999.000000   -999.000000   -999.000000   \n",
       "25%     -999.000000   -999.000000   -999.000000   -999.000000   \n",
       "50%     -999.000000   -999.000000   -999.000000   -999.000000   \n",
       "75%     -999.000000   -999.000000   -999.000000   -999.000000   \n",
       "max      300.000000    270.000000    180.000000   1180.000000   \n",
       "\n",
       "       Moderate Wind NE  Moderate Wind SE  Moderate Wind SW  Moderate Wind NW  \\\n",
       "count      26137.000000      26137.000000      26137.000000      26137.000000   \n",
       "mean        -751.604622       -752.094923       -752.701917       -752.102957   \n",
       "std          435.198872        434.303796        433.202389        434.291049   \n",
       "min         -999.000000       -999.000000       -999.000000       -999.000000   \n",
       "25%         -999.000000       -999.000000       -999.000000       -999.000000   \n",
       "50%         -999.000000       -999.000000       -999.000000       -999.000000   \n",
       "75%         -999.000000       -999.000000       -999.000000       -999.000000   \n",
       "max          150.000000        150.000000        105.000000        150.000000   \n",
       "\n",
       "       High Wind NE  High Wind SE  High Wind SW  High Wind NW  \n",
       "count  26137.000000  26137.000000  26137.000000  26137.000000  \n",
       "mean    -753.584382   -753.787160   -754.046945   -753.774534  \n",
       "std      431.605766    431.239618    430.773515    431.263235  \n",
       "min     -999.000000   -999.000000   -999.000000   -999.000000  \n",
       "25%     -999.000000   -999.000000   -999.000000   -999.000000  \n",
       "50%     -999.000000   -999.000000   -999.000000   -999.000000  \n",
       "75%     -999.000000   -999.000000   -999.000000   -999.000000  \n",
       "max      100.000000     75.000000     75.000000    100.000000  "
      ]
     },
     "execution_count": 58,
     "metadata": {},
     "output_type": "execute_result"
    }
   ],
   "source": [
    "#print(data.info())\n",
    "\n",
    "#data['Status'] = data['Status'].map({'TS':1,'HU':0})\n",
    "\n",
    "#data.describe() # this will describe the all statistical function of our data"
   ]
  },
  {
   "cell_type": "code",
   "execution_count": 5,
   "metadata": {
    "collapsed": true
   },
   "outputs": [
    {
     "name": "stdout",
     "output_type": "stream",
     "text": [
      "         ID                 Name      Date  Time Event  Status Latitude  \\\n",
      "0  EP011949              UNNAMED  19490611     0            11    20.2N   \n",
      "1  EP011949              UNNAMED  19490611   600            11    20.2N   \n",
      "2  EP011949              UNNAMED  19490611  1200            11    20.2N   \n",
      "3  EP011949              UNNAMED  19490611  1800            11    20.3N   \n",
      "4  EP011949              UNNAMED  19490612     0            11    20.4N   \n",
      "\n",
      "  Longitude  Maximum Wind  Minimum Pressure      ...       Low Wind SW  \\\n",
      "0    106.3W            45              -999      ...              -999   \n",
      "1    106.4W            45              -999      ...              -999   \n",
      "2    106.7W            45              -999      ...              -999   \n",
      "3    107.7W            45              -999      ...              -999   \n",
      "4    108.6W            45              -999      ...              -999   \n",
      "\n",
      "   Low Wind NW  Moderate Wind NE  Moderate Wind SE  Moderate Wind SW  \\\n",
      "0         -999              -999              -999              -999   \n",
      "1         -999              -999              -999              -999   \n",
      "2         -999              -999              -999              -999   \n",
      "3         -999              -999              -999              -999   \n",
      "4         -999              -999              -999              -999   \n",
      "\n",
      "   Moderate Wind NW  High Wind NE  High Wind SE  High Wind SW  High Wind NW  \n",
      "0              -999          -999          -999          -999          -999  \n",
      "1              -999          -999          -999          -999          -999  \n",
      "2              -999          -999          -999          -999          -999  \n",
      "3              -999          -999          -999          -999          -999  \n",
      "4              -999          -999          -999          -999          -999  \n",
      "\n",
      "[5 rows x 22 columns]\n"
     ]
    }
   ],
   "source": [
    "data.Status = pd.Categorical(data.Status)\n",
    "data['Status'] = data.Status.cat.codes\n",
    "print(data.head())"
   ]
  },
  {
   "cell_type": "code",
   "execution_count": 8,
   "metadata": {
    "collapsed": true
   },
   "outputs": [],
   "source": [
    "# lets get the frequency of different typhoons\n",
    "#sns.countplot(data['Status'],label=\"Count\")\n",
    "#plt.show()"
   ]
  },
  {
   "cell_type": "code",
   "execution_count": 6,
   "metadata": {},
   "outputs": [
    {
     "name": "stderr",
     "output_type": "stream",
     "text": [
      "C:\\Users\\NAEEN REDDY\\Anaconda3\\lib\\site-packages\\pandas\\core\\frame.py:3694: SettingWithCopyWarning: \n",
      "A value is trying to be set on a copy of a slice from a DataFrame\n",
      "\n",
      "See the caveats in the documentation: http://pandas.pydata.org/pandas-docs/stable/indexing.html#indexing-view-versus-copy\n",
      "  errors=errors)\n"
     ]
    },
    {
     "name": "stdout",
     "output_type": "stream",
     "text": [
      "['Maximum Wind', 'Minimum Pressure', 'Low Wind NE', 'Low Wind SE', 'Low Wind SW', 'Low Wind NW', 'Moderate Wind NE', 'Moderate Wind SE', 'Moderate Wind SW', 'Moderate Wind NW', 'High Wind NE', 'High Wind SE', 'High Wind SW', 'High Wind NW']\n"
     ]
    }
   ],
   "source": [
    "random.seed(2)\n",
    "pred_columns = data[:]\n",
    "pred_columns.drop(['Status'],axis=1,inplace=True)\n",
    "pred_columns.drop(['Event'],axis=1,inplace=True)\n",
    "pred_columns.drop(['Latitude'],axis=1,inplace=True)\n",
    "pred_columns.drop(['Longitude'],axis=1,inplace=True)\n",
    "pred_columns.drop(['ID'],axis=1,inplace=True)\n",
    "pred_columns.drop(['Name'],axis=1,inplace=True)\n",
    "pred_columns.drop(['Date'],axis=1,inplace=True)\n",
    "pred_columns.drop(['Time'],axis=1,inplace=True)\n",
    "prediction_var = pred_columns.columns\n",
    "print(list(prediction_var))"
   ]
  },
  {
   "cell_type": "code",
   "execution_count": 10,
   "metadata": {
    "collapsed": true
   },
   "outputs": [],
   "source": [
    "# now these are the variables which will use for prediction\n",
    "#now split our data into train and test"
   ]
  },
  {
   "cell_type": "code",
   "execution_count": 8,
   "metadata": {},
   "outputs": [
    {
     "name": "stdout",
     "output_type": "stream",
     "text": [
      "(18295, 22)\n",
      "(7842, 22)\n"
     ]
    }
   ],
   "source": [
    "train, test = train_test_split(data, test_size = 0.3)# in this our main data is splitted into train and test\n",
    "# we can check their dimension\n",
    "print(train.shape)\n",
    "print(test.shape)"
   ]
  },
  {
   "cell_type": "code",
   "execution_count": 9,
   "metadata": {},
   "outputs": [
    {
     "name": "stdout",
     "output_type": "stream",
     "text": [
      "['ID', 'Name', 'Date', 'Time', 'Event', 'Status', 'Latitude', 'Longitude', 'Maximum Wind', 'Minimum Pressure', 'Low Wind NE', 'Low Wind SE', 'Low Wind SW', 'Low Wind NW', 'Moderate Wind NE', 'Moderate Wind SE', 'Moderate Wind SW', 'Moderate Wind NW', 'High Wind NE', 'High Wind SE', 'High Wind SW', 'High Wind NW']\n"
     ]
    }
   ],
   "source": [
    "train_X = train[prediction_var]# taking the training data input\n",
    "train_y= train['Status']# This is output of our training data\n",
    "#print(list(data.columns))\n",
    "print(list(train.columns))"
   ]
  },
  {
   "cell_type": "code",
   "execution_count": 10,
   "metadata": {},
   "outputs": [],
   "source": [
    "# same we have to do for test\n",
    "test_X= test[prediction_var] # taking test data inputs\n",
    "test_y =test['Status']   #output value of test dat"
   ]
  },
  {
   "cell_type": "code",
   "execution_count": 15,
   "metadata": {},
   "outputs": [
    {
     "name": "stdout",
     "output_type": "stream",
     "text": [
      "0.9556235654169855\n"
     ]
    }
   ],
   "source": [
    "#RandomForest classifier\n",
    "model=RandomForestClassifier(n_estimators=100)# a simple random forest model\n",
    "model.fit(train_X,train_y)# now fit our model for traiing data\n",
    "prediction=model.predict(test_X)# predict for the test data\n",
    "#prediction will contain the predicted value by our model predicted values of diagnosis column for test inputs\n",
    "print(metrics.accuracy_score(prediction,test_y)) # to check the accuracy\n",
    "# here we will use accuracy measurement between our predicted value and our test output values"
   ]
  },
  {
   "cell_type": "code",
   "execution_count": 17,
   "metadata": {
    "collapsed": true
   },
   "outputs": [
    {
     "name": "stderr",
     "output_type": "stream",
     "text": [
      "C:\\Users\\NAEEN REDDY\\Anaconda3\\lib\\site-packages\\pandas\\core\\indexes\\api.py:107: RuntimeWarning: '<' not supported between instances of 'int' and 'str', sort order is undefined for incomparable objects\n",
      "  result = result.union(other)\n"
     ]
    }
   ],
   "source": []
  },
  {
   "cell_type": "code",
   "execution_count": 11,
   "metadata": {
    "collapsed": true
   },
   "outputs": [
    {
     "data": {
      "text/plain": [
       "DecisionTreeClassifier(class_weight=None, criterion='gini', max_depth=None,\n",
       "            max_features=None, max_leaf_nodes=None,\n",
       "            min_impurity_decrease=0.0, min_impurity_split=None,\n",
       "            min_samples_leaf=1, min_samples_split=2,\n",
       "            min_weight_fraction_leaf=0.0, presort=False, random_state=None,\n",
       "            splitter='best')"
      ]
     },
     "execution_count": 11,
     "metadata": {},
     "output_type": "execute_result"
    }
   ],
   "source": [
    "#Decision Tree\n",
    "model = tree.DecisionTreeClassifier()\n",
    "model.fit(train_X,train_y)# now fit our model for traiing data"
   ]
  },
  {
   "cell_type": "code",
   "execution_count": 12,
   "metadata": {},
   "outputs": [],
   "source": [
    "prediction=model.predict(test_X)# predict for the test data\n",
    "# prediction will contain the predicted value by our model predicted values of diagnosis column for test inputs"
   ]
  },
  {
   "cell_type": "code",
   "execution_count": 13,
   "metadata": {
    "collapsed": true
   },
   "outputs": [
    {
     "name": "stdout",
     "output_type": "stream",
     "text": [
      "         0\n",
      "Status    \n",
      "10      10\n",
      "10      10\n",
      "11      11\n",
      "3        3\n",
      "10      10\n",
      "3        3\n",
      "10      10\n",
      "3        3\n",
      "3        3\n",
      "3        3\n",
      "10      10\n",
      "10      10\n",
      "11      11\n",
      "11      11\n",
      "11      11\n",
      "3        3\n",
      "10      10\n",
      "1       10\n",
      "11      11\n",
      "3        3\n",
      "11      11\n",
      "11      11\n",
      "3        3\n",
      "11      11\n",
      "5        5\n",
      "3        3\n",
      "5       10\n",
      "3        3\n",
      "10      10\n",
      "11      11\n",
      "...     ..\n",
      "10      10\n",
      "10      10\n",
      "10      10\n",
      "10      10\n",
      "10      10\n",
      "3        3\n",
      "11      11\n",
      "11      11\n",
      "11      11\n",
      "10      10\n",
      "11      11\n",
      "11      11\n",
      "11      11\n",
      "11      11\n",
      "10      10\n",
      "11      11\n",
      "11      11\n",
      "11      11\n",
      "3        3\n",
      "11      11\n",
      "3        3\n",
      "10      10\n",
      "11      11\n",
      "10      10\n",
      "11      11\n",
      "10      10\n",
      "3        3\n",
      "11      11\n",
      "10      10\n",
      "11      11\n",
      "\n",
      "[7842 rows x 1 columns]\n"
     ]
    }
   ],
   "source": [
    "df=pd.DataFrame(prediction,test_y)\n",
    "print(df)"
   ]
  },
  {
   "cell_type": "code",
   "execution_count": 14,
   "metadata": {},
   "outputs": [
    {
     "name": "stdout",
     "output_type": "stream",
     "text": [
      "0.9542208620249937\n"
     ]
    }
   ],
   "source": [
    "print(metrics.accuracy_score(prediction,test_y)) # to check the accuracy\n",
    "# here we will use accuracy measurement between our predicted value and our test output values"
   ]
  }
 ],
 "metadata": {
  "kernelspec": {
   "display_name": "Python 3",
   "language": "python",
   "name": "python3"
  },
  "language_info": {
   "codemirror_mode": {
    "name": "ipython",
    "version": 3
   },
   "file_extension": ".py",
   "mimetype": "text/x-python",
   "name": "python",
   "nbconvert_exporter": "python",
   "pygments_lexer": "ipython3",
   "version": "3.7.3"
  }
 },
 "nbformat": 4,
 "nbformat_minor": 2
}
